{
 "cells": [
  {
   "cell_type": "markdown",
   "id": "50db0d1f",
   "metadata": {},
   "source": [
    "# Machine Learning Methodologies"
   ]
  },
  {
   "cell_type": "markdown",
   "id": "f9b13b20",
   "metadata": {},
   "source": [
    "#### Contributors: \n",
    "Kunal Mody, Omeed Tehrani, Alex Chandler, Felipe Paz\n",
    "\n",
    "#### Project Specifications\n",
    "https://utexas.instructure.com/courses/1339107/pages/project-specification"
   ]
  },
  {
   "cell_type": "markdown",
   "id": "34c32aa8",
   "metadata": {},
   "source": [
    "## Introduction"
   ]
  },
  {
   "cell_type": "markdown",
   "id": "a93ea1ae",
   "metadata": {},
   "source": [
    "1. What is the machine learning problem we are trying to solve?\n",
    "\n",
    "2. Why does this problem matter?\n",
    "\n",
    "3. What could the results of our predictive model be used for?\n",
    "\n",
    "4. Why would we want to be able to predict genres using this data?\n"
   ]
  },
  {
   "cell_type": "markdown",
   "id": "ce285648",
   "metadata": {},
   "source": [
    "## Description of Dataset"
   ]
  },
  {
   "cell_type": "markdown",
   "id": "e94ce954",
   "metadata": {},
   "source": [
    "put stuff here"
   ]
  },
  {
   "cell_type": "markdown",
   "id": "97d4adab",
   "metadata": {},
   "source": [
    "## Data Cleaning, Data Exploration, Feature Engineering"
   ]
  },
  {
   "cell_type": "markdown",
   "id": "0b2ac17e",
   "metadata": {},
   "source": [
    "stuff"
   ]
  },
  {
   "cell_type": "markdown",
   "id": "1ac924d9",
   "metadata": {},
   "source": [
    "## Modeling"
   ]
  },
  {
   "cell_type": "markdown",
   "id": "2c2d4c17",
   "metadata": {},
   "source": [
    "we need to have cells that describe the process of each thing that we are doing. We'll do 1 mark down cell for each block of code."
   ]
  },
  {
   "cell_type": "markdown",
   "id": "bd5182ba",
   "metadata": {},
   "source": [
    "## Display the Results"
   ]
  },
  {
   "cell_type": "markdown",
   "id": "324ea950",
   "metadata": {},
   "source": [
    "stuff"
   ]
  },
  {
   "cell_type": "markdown",
   "id": "62d4df1e",
   "metadata": {},
   "source": [
    "## Analysis and Discussion of Results"
   ]
  },
  {
   "cell_type": "markdown",
   "id": "b00ca7b0",
   "metadata": {},
   "source": [
    "stuff"
   ]
  }
 ],
 "metadata": {
  "kernelspec": {
   "display_name": "Python 3 (ipykernel)",
   "language": "python",
   "name": "python3"
  },
  "language_info": {
   "codemirror_mode": {
    "name": "ipython",
    "version": 3
   },
   "file_extension": ".py",
   "mimetype": "text/x-python",
   "name": "python",
   "nbconvert_exporter": "python",
   "pygments_lexer": "ipython3",
   "version": "3.9.12"
  }
 },
 "nbformat": 4,
 "nbformat_minor": 5
}
